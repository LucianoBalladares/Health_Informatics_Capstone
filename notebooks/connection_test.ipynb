{
 "cells": [
  {
   "cell_type": "markdown",
   "id": "237b5a42",
   "metadata": {},
   "source": [
    "# 🔍 Database Connection Test\n",
    "\n",
    "This notebook verifies that the PostgreSQL database connection works correctly using environment variables and SQLAlchemy."
   ]
  },
  {
   "cell_type": "code",
   "execution_count": null,
   "id": "d8cc860b",
   "metadata": {
    "vscode": {
     "languageId": "plaintext"
    }
   },
   "outputs": [],
   "source": [
    "from scripts.db_connection import get_engine\n",
    "engine = get_engine()\n",
    "\n",
    "with engine.connect() as conn:\n",
    "    result = conn.execute(\"SELECT 1\")\n",
    "    print(\"Database connection successful:\", result.scalar() == 1)\n"
   ]
  }
 ],
 "metadata": {
  "language_info": {
   "name": "python"
  }
 },
 "nbformat": 4,
 "nbformat_minor": 5
}
