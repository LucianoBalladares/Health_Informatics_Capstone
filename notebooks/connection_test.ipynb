{
 "cells": [
  {
   "cell_type": "markdown",
   "id": "237b5a42",
   "metadata": {},
   "source": [
    "# 🔍 Database Connection Test\n",
    "\n",
    "This notebook verifies that the PostgreSQL database connection works correctly using environment variables and SQLAlchemy."
   ]
  },
  {
   "cell_type": "code",
   "execution_count": null,
   "id": "d8cc860b",
   "metadata": {
    "vscode": {
     "languageId": "plaintext"
    }
   },
   "outputs": [],
   "source": [
    "from scripts.db_connection import get_engine\n",
    "from sqlalchemy import text\n",
    "\n",
    "engine = get_engine()\n",
    "version = run_query(engine, \"SELECT version();\")\n",
    "print(version)\n"
   ]
  }
 ],
 "metadata": {
  "language_info": {
   "name": "python"
  }
 },
 "nbformat": 4,
 "nbformat_minor": 5
}
